{
  "nbformat": 4,
  "nbformat_minor": 0,
  "metadata": {
    "colab": {
      "name": "0509.ipynb",
      "provenance": [],
      "authorship_tag": "ABX9TyNV3B4Bpmjr/iyH+wPWQPvK",
      "include_colab_link": true
    },
    "kernelspec": {
      "name": "python3",
      "display_name": "Python 3"
    },
    "language_info": {
      "name": "python"
    }
  },
  "cells": [
    {
      "cell_type": "markdown",
      "metadata": {
        "id": "view-in-github",
        "colab_type": "text"
      },
      "source": [
        "<a href=\"https://colab.research.google.com/github/morningcoffeehoola/introduction-to-coumputer/blob/main/0509.ipynb\" target=\"_parent\"><img src=\"https://colab.research.google.com/assets/colab-badge.svg\" alt=\"Open In Colab\"/></a>"
      ]
    },
    {
      "cell_type": "code",
      "execution_count": 2,
      "metadata": {
        "colab": {
          "base_uri": "https://localhost:8080/"
        },
        "id": "4f2l7rcy7ldX",
        "outputId": "0ec3f07a-23e2-446c-e5c0-4ad43560ee92"
      },
      "outputs": [
        {
          "output_type": "stream",
          "name": "stdout",
          "text": [
            "請輸入量測溫度20\n",
            "體溫異常，請重新量測\n"
          ]
        }
      ],
      "source": [
        "t=float(input('請輸入量測溫度'))\n",
        "if t>=37.5:\n",
        "    print(\"體溫過高\")\n",
        "elif t>=37 and t<37.4:\n",
        "    print(\"體溫略高\")\n",
        "elif t>=34 and t<=36.9:\n",
        "    print(\"體溫正常\")\n",
        "else:\n",
        "    print(\"體溫異常，請重新量測\")    \n"
      ]
    },
    {
      "cell_type": "code",
      "source": [
        "s=int(input(\"type your score\"))\n",
        "if s>=90:\n",
        "    print(\"A\")\n",
        "elif s>=80 and s<90:\n",
        "    print(\"B\")\n",
        "elif s>=70 and s<80:\n",
        "    print(\"C\")\n",
        "elif s>=60 and s<70:\n",
        "    print(\"D\")\n",
        "else:\n",
        "    print(\"E\")               "
      ],
      "metadata": {
        "colab": {
          "base_uri": "https://localhost:8080/"
        },
        "id": "HK-5OAE3_g7I",
        "outputId": "47eb4a97-66a8-4340-a1d5-03e88359328d"
      },
      "execution_count": 7,
      "outputs": [
        {
          "output_type": "stream",
          "name": "stdout",
          "text": [
            "type your score77\n",
            "C\n"
          ]
        }
      ]
    },
    {
      "cell_type": "code",
      "source": [
        "m=int(input(\"請輸入購物金額\"))\n",
        "if (m>=10000):\n",
        "    if(m>=100000):\n",
        "        print(\"8折\",m*0.8,end=\"元\\n\")\n",
        "    elif (m>=50000):\n",
        "        print(\"85折\",m*0.85,end=\"元\\n\")\n",
        "    elif (m>=30000):\n",
        "        print(\"9折\",m*0.9,end=\"元\\n\") \n",
        "    elif (m>=10000):\n",
        "        print(\"95折\",m*0.95,end=\"元\\n\") \n",
        "else:\n",
        "    print(\"沒打折\",m,end=\"元\\n\")          "
      ],
      "metadata": {
        "colab": {
          "base_uri": "https://localhost:8080/"
        },
        "id": "oq12wOU7E79w",
        "outputId": "af376d8f-65fd-4f03-a8aa-748eb80ff5e4"
      },
      "execution_count": 10,
      "outputs": [
        {
          "output_type": "stream",
          "name": "stdout",
          "text": [
            "請輸入購物金額100000\n",
            "8折 80000.0元\n"
          ]
        }
      ]
    },
    {
      "cell_type": "code",
      "source": [
        "month = int(input(\"請輸入月份\"))\n",
        "if month==3 or month== 4 or month==5 :\n",
        "    print(month,\"月是春天\")\n",
        "elif month==6 or month==7 or month==8 :\n",
        "    print(month,\"月是夏天\") \n",
        "elif month==9 or month==10 or month==11 :\n",
        "    print(month,\"月是秋天\") \n",
        "elif month==12 or month==1 or month==2 :\n",
        "    print(month,\"月是冬天\") \n",
        "else:\n",
        "    print(\"月份錯誤呢，親\")                     "
      ],
      "metadata": {
        "colab": {
          "base_uri": "https://localhost:8080/"
        },
        "id": "pU3LW4GyHX0g",
        "outputId": "8f929f27-310f-467f-9155-d934145b621e"
      },
      "execution_count": 27,
      "outputs": [
        {
          "output_type": "stream",
          "name": "stdout",
          "text": [
            "請輸入月份5\n",
            "5 月是夏天\n"
          ]
        }
      ]
    },
    {
      "cell_type": "code",
      "source": [
        "income=int(input(\"請輸入收入淨額\"))\n",
        "if income>=300000:\n",
        "    if income>=2000000:\n",
        "        print(\"賦稅金額:\",income*0.3,end=\"元\\n\")\n",
        "    elif income>=1000000:\n",
        "        print(\"賦稅金額:\",income*0.21,end=\"元\\n\")\n",
        "    elif income>=600000:\n",
        "        print(\"賦稅金額:\",income*0.13,end=\"元\\n\")\n",
        "    elif income>=300000:\n",
        "        print(\"賦稅金額:\",income*0.06,end=\"元\\n\") \n",
        "else:\n",
        "    print(\"賦稅金額:0元\")               "
      ],
      "metadata": {
        "colab": {
          "base_uri": "https://localhost:8080/"
        },
        "id": "u1eRnm4nI37Y",
        "outputId": "1f61ce2c-a9ed-4c0c-aa00-7a6c658b22c8"
      },
      "execution_count": 32,
      "outputs": [
        {
          "output_type": "stream",
          "name": "stdout",
          "text": [
            "請輸入收入淨額2000000\n",
            "賦稅金額: 600000.0元\n"
          ]
        }
      ]
    }
  ]
}