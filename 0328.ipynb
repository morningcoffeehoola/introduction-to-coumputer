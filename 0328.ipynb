{
  "nbformat": 4,
  "nbformat_minor": 0,
  "metadata": {
    "colab": {
      "name": "0328.ipynb",
      "provenance": [],
      "authorship_tag": "ABX9TyNwsOAjTbp2Q+dVJ8yBCoTu",
      "include_colab_link": true
    },
    "kernelspec": {
      "name": "python3",
      "display_name": "Python 3"
    },
    "language_info": {
      "name": "python"
    }
  },
  "cells": [
    {
      "cell_type": "markdown",
      "metadata": {
        "id": "view-in-github",
        "colab_type": "text"
      },
      "source": [
        "<a href=\"https://colab.research.google.com/github/morningcoffeehoola/introduction-to-coumputer/blob/main/0328.ipynb\" target=\"_parent\"><img src=\"https://colab.research.google.com/assets/colab-badge.svg\" alt=\"Open In Colab\"/></a>"
      ]
    },
    {
      "cell_type": "code",
      "execution_count": null,
      "metadata": {
        "colab": {
          "base_uri": "https://localhost:8080/"
        },
        "id": "5MKWf1PZnyMO",
        "outputId": "855331e1-054f-4fc6-c5c5-e869d9eb753d"
      },
      "outputs": [
        {
          "output_type": "execute_result",
          "data": {
            "text/plain": [
              "9"
            ]
          },
          "metadata": {},
          "execution_count": 5
        }
      ],
      "source": [
        " 12+3"
      ]
    },
    {
      "cell_type": "code",
      "source": [
        "12-3"
      ],
      "metadata": {
        "colab": {
          "base_uri": "https://localhost:8080/"
        },
        "id": "mfAUAQQHn1MG",
        "outputId": "a19b14c7-5411-4499-ab46-154f95f1b711"
      },
      "execution_count": null,
      "outputs": [
        {
          "output_type": "execute_result",
          "data": {
            "text/plain": [
              "9"
            ]
          },
          "metadata": {},
          "execution_count": 4
        }
      ]
    },
    {
      "cell_type": "code",
      "source": [
        "12*3"
      ],
      "metadata": {
        "colab": {
          "base_uri": "https://localhost:8080/"
        },
        "id": "PHW93DKGoNC-",
        "outputId": "cee4c9c1-eccf-43e7-b3b5-3066f0e66da7"
      },
      "execution_count": null,
      "outputs": [
        {
          "output_type": "execute_result",
          "data": {
            "text/plain": [
              "36"
            ]
          },
          "metadata": {},
          "execution_count": 6
        }
      ]
    },
    {
      "cell_type": "code",
      "source": [
        "32/5"
      ],
      "metadata": {
        "colab": {
          "base_uri": "https://localhost:8080/"
        },
        "id": "3-eAYwwsoPy_",
        "outputId": "9a3b0fde-b3dd-4515-a287-35c4377b06cf"
      },
      "execution_count": null,
      "outputs": [
        {
          "output_type": "execute_result",
          "data": {
            "text/plain": [
              "6.4"
            ]
          },
          "metadata": {},
          "execution_count": 7
        }
      ]
    },
    {
      "cell_type": "code",
      "source": [
        "32%5"
      ],
      "metadata": {
        "colab": {
          "base_uri": "https://localhost:8080/"
        },
        "id": "ensb9qP4oRw2",
        "outputId": "7eaed8c1-9d8c-4d92-d0df-799154fef3af"
      },
      "execution_count": null,
      "outputs": [
        {
          "output_type": "execute_result",
          "data": {
            "text/plain": [
              "2"
            ]
          },
          "metadata": {},
          "execution_count": 8
        }
      ]
    },
    {
      "cell_type": "code",
      "source": [
        "32//5"
      ],
      "metadata": {
        "colab": {
          "base_uri": "https://localhost:8080/"
        },
        "id": "7jshz7fboUD3",
        "outputId": "e95f2e4f-7988-4433-dd99-2d2dd81b74f7"
      },
      "execution_count": null,
      "outputs": [
        {
          "output_type": "execute_result",
          "data": {
            "text/plain": [
              "6"
            ]
          },
          "metadata": {},
          "execution_count": 9
        }
      ]
    },
    {
      "cell_type": "code",
      "source": [
        "3**7"
      ],
      "metadata": {
        "id": "BnS6ejfyodq-",
        "colab": {
          "base_uri": "https://localhost:8080/"
        },
        "outputId": "6a9e2b29-4240-4941-f050-efceb9676916"
      },
      "execution_count": null,
      "outputs": [
        {
          "output_type": "execute_result",
          "data": {
            "text/plain": [
              "2187"
            ]
          },
          "metadata": {},
          "execution_count": 11
        }
      ]
    },
    {
      "cell_type": "code",
      "source": [
        "上底 = int(input(\"請輸入梯形上底\"))\n",
        "下底 = int(input(\"請輸入梯形下底\"))\n",
        "高度 = int(input(\"請輸入高\"))\n",
        "面積 = (上底 +下底)*高度/2\n",
        "print((\"上底長度為：%d, 下底的長度為%d,高為%d,面積為%0.2f\") % (上底,下底,高度,面積))"
      ],
      "metadata": {
        "colab": {
          "base_uri": "https://localhost:8080/"
        },
        "id": "hp8IRlJQol_m",
        "outputId": "7bb24656-ef88-4793-a5aa-2662e48c9773"
      },
      "execution_count": null,
      "outputs": [
        {
          "output_type": "stream",
          "name": "stdout",
          "text": [
            "請輸入梯形上底1\n",
            "請輸入梯形下底2\n",
            "請輸入高5\n",
            "上底長度為：1, 下底的長度為2,高為5,面積為7.50\n"
          ]
        }
      ]
    },
    {
      "cell_type": "code",
      "source": [
        "a = 1.11111\n",
        "b = 2.022222\n",
        "c = 3.0033333\n",
        "print(\"a = %0.1f, b=%0.2f,c= %0.3f\"%(a,b,c))"
      ],
      "metadata": {
        "id": "w5QycNG9y1D0",
        "colab": {
          "base_uri": "https://localhost:8080/"
        },
        "outputId": "391a0cf4-bde0-47ad-ff74-61f0c3ddd89d"
      },
      "execution_count": null,
      "outputs": [
        {
          "output_type": "stream",
          "name": "stdout",
          "text": [
            "a = 1.1, b=2.02,c= 3.003\n"
          ]
        }
      ]
    },
    {
      "cell_type": "code",
      "source": [
        "cm = int(input(\"請輸入你的身高(cm)\"))\n",
        "kg = int(input(\"請輸入你的體重(kg)\"))\n",
        "m = cm/100\n",
        "bmi = kg/m**2\n",
        "print(\"身高%d公分,體重%d公斤,bmi=%f\"%(cm,kg,bmi))"
      ],
      "metadata": {
        "colab": {
          "base_uri": "https://localhost:8080/"
        },
        "id": "Tf6OrRA80cfg",
        "outputId": "83c84877-0578-4589-e109-e7a5be7537dc"
      },
      "execution_count": null,
      "outputs": [
        {
          "output_type": "stream",
          "name": "stdout",
          "text": [
            "請輸入你的身高(cm)175\n",
            "請輸入你的體重(kg)73\n",
            "身高175公分,體重73公斤,bmi=23.836735\n"
          ]
        }
      ]
    },
    {
      "cell_type": "code",
      "source": [
        "6+9==1+14"
      ],
      "metadata": {
        "colab": {
          "base_uri": "https://localhost:8080/"
        },
        "id": "AqDLlkr53gGC",
        "outputId": "4754d3e9-89a2-4704-92ad-0f022dbfd3eb"
      },
      "execution_count": 40,
      "outputs": [
        {
          "output_type": "execute_result",
          "data": {
            "text/plain": [
              "True"
            ]
          },
          "metadata": {},
          "execution_count": 40
        }
      ]
    },
    {
      "cell_type": "code",
      "source": [
        "8+9==2+13"
      ],
      "metadata": {
        "colab": {
          "base_uri": "https://localhost:8080/"
        },
        "id": "Ym3RS02U3xle",
        "outputId": "dbe083ca-ae88-49ec-90ba-5bcddd06ba4f"
      },
      "execution_count": 41,
      "outputs": [
        {
          "output_type": "execute_result",
          "data": {
            "text/plain": [
              "False"
            ]
          },
          "metadata": {},
          "execution_count": 41
        }
      ]
    },
    {
      "cell_type": "code",
      "source": [
        "8+9>2+13"
      ],
      "metadata": {
        "colab": {
          "base_uri": "https://localhost:8080/"
        },
        "id": "pEW1ydh531BM",
        "outputId": "72cb4100-5050-4bc8-fd10-f5f05f1be8ae"
      },
      "execution_count": 42,
      "outputs": [
        {
          "output_type": "execute_result",
          "data": {
            "text/plain": [
              "True"
            ]
          },
          "metadata": {},
          "execution_count": 42
        }
      ]
    },
    {
      "cell_type": "code",
      "source": [
        "6+9>2+13"
      ],
      "metadata": {
        "colab": {
          "base_uri": "https://localhost:8080/"
        },
        "id": "TBS4Ub_t4A8S",
        "outputId": "888bad3b-84ca-4eaf-81ab-d7c98614d4da"
      },
      "execution_count": 43,
      "outputs": [
        {
          "output_type": "execute_result",
          "data": {
            "text/plain": [
              "False"
            ]
          },
          "metadata": {},
          "execution_count": 43
        }
      ]
    },
    {
      "cell_type": "code",
      "source": [
        "5+9<2+13"
      ],
      "metadata": {
        "colab": {
          "base_uri": "https://localhost:8080/"
        },
        "id": "POIBUvqV4IE_",
        "outputId": "1b5a47dd-cc8b-4235-dba4-c3a2343b6d4c"
      },
      "execution_count": 44,
      "outputs": [
        {
          "output_type": "execute_result",
          "data": {
            "text/plain": [
              "True"
            ]
          },
          "metadata": {},
          "execution_count": 44
        }
      ]
    },
    {
      "cell_type": "code",
      "source": [
        "8+9<2+13"
      ],
      "metadata": {
        "colab": {
          "base_uri": "https://localhost:8080/"
        },
        "id": "A3JWu9De4Rjd",
        "outputId": "2a3340bb-a4c5-4302-8eca-103db92cd22d"
      },
      "execution_count": 45,
      "outputs": [
        {
          "output_type": "execute_result",
          "data": {
            "text/plain": [
              "False"
            ]
          },
          "metadata": {},
          "execution_count": 45
        }
      ]
    },
    {
      "cell_type": "code",
      "source": [
        "6+9>=2+13"
      ],
      "metadata": {
        "colab": {
          "base_uri": "https://localhost:8080/"
        },
        "id": "ix-GUg-D4VY0",
        "outputId": "bbf92fca-7ca3-4190-ade2-111cfb1f7f72"
      },
      "execution_count": 46,
      "outputs": [
        {
          "output_type": "execute_result",
          "data": {
            "text/plain": [
              "True"
            ]
          },
          "metadata": {},
          "execution_count": 46
        }
      ]
    },
    {
      "cell_type": "code",
      "source": [
        "3+9>=2+13"
      ],
      "metadata": {
        "colab": {
          "base_uri": "https://localhost:8080/"
        },
        "id": "mmDBwXtz4bdM",
        "outputId": "9bca99da-eb9e-45b8-b9d7-a97c42906638"
      },
      "execution_count": 47,
      "outputs": [
        {
          "output_type": "execute_result",
          "data": {
            "text/plain": [
              "False"
            ]
          },
          "metadata": {},
          "execution_count": 47
        }
      ]
    },
    {
      "cell_type": "code",
      "source": [
        "3+9<=2+13"
      ],
      "metadata": {
        "colab": {
          "base_uri": "https://localhost:8080/"
        },
        "id": "eM2ZRxk24iC9",
        "outputId": "15e570f0-5088-47e0-beb8-8a0ee1eb757e"
      },
      "execution_count": 48,
      "outputs": [
        {
          "output_type": "execute_result",
          "data": {
            "text/plain": [
              "True"
            ]
          },
          "metadata": {},
          "execution_count": 48
        }
      ]
    },
    {
      "cell_type": "code",
      "source": [
        "8+9<=2+13"
      ],
      "metadata": {
        "colab": {
          "base_uri": "https://localhost:8080/"
        },
        "id": "TPnNq4ug4s1t",
        "outputId": "4473d03c-bed9-4cd8-f095-80d6feda7a63"
      },
      "execution_count": 49,
      "outputs": [
        {
          "output_type": "execute_result",
          "data": {
            "text/plain": [
              "False"
            ]
          },
          "metadata": {},
          "execution_count": 49
        }
      ]
    }
  ]
}