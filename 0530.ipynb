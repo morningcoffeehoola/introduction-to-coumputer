{
  "nbformat": 4,
  "nbformat_minor": 0,
  "metadata": {
    "colab": {
      "name": "0530.ipynb",
      "provenance": [],
      "authorship_tag": "ABX9TyOSziteVDAOxozmC0gsofKf",
      "include_colab_link": true
    },
    "kernelspec": {
      "name": "python3",
      "display_name": "Python 3"
    },
    "language_info": {
      "name": "python"
    }
  },
  "cells": [
    {
      "cell_type": "markdown",
      "metadata": {
        "id": "view-in-github",
        "colab_type": "text"
      },
      "source": [
        "<a href=\"https://colab.research.google.com/github/morningcoffeehoola/introduction-to-coumputer/blob/main/0530.ipynb\" target=\"_parent\"><img src=\"https://colab.research.google.com/assets/colab-badge.svg\" alt=\"Open In Colab\"/></a>"
      ]
    },
    {
      "cell_type": "code",
      "execution_count": null,
      "metadata": {
        "colab": {
          "base_uri": "https://localhost:8080/"
        },
        "id": "MmtfQBhXBfWV",
        "outputId": "a49f2d44-5961-478e-a8bd-0d8c532292c8"
      },
      "outputs": [
        {
          "output_type": "stream",
          "name": "stdout",
          "text": [
            "2*1= 2  2*2= 4  2*3= 6  2*4= 8  2*5=10  2*6=12  2*7=14  2*8=16  2*9=18  \n",
            "3*1= 3  3*2= 6  3*3= 9  3*4=12  3*5=15  3*6=18  3*7=21  3*8=24  3*9=27  \n",
            "4*1= 4  4*2= 8  4*3=12  4*4=16  4*5=20  4*6=24  4*7=28  4*8=32  4*9=36  \n",
            "5*1= 5  5*2=10  5*3=15  5*4=20  5*5=25  5*6=30  5*7=35  5*8=40  5*9=45  \n",
            "6*1= 6  6*2=12  6*3=18  6*4=24  6*5=30  6*6=36  6*7=42  6*8=48  6*9=54  \n",
            "7*1= 7  7*2=14  7*3=21  7*4=28  7*5=35  7*6=42  7*7=49  7*8=56  7*9=63  \n",
            "8*1= 8  8*2=16  8*3=24  8*4=32  8*5=40  8*6=48  8*7=56  8*8=64  8*9=72  \n",
            "9*1= 9  9*2=18  9*3=27  9*4=36  9*5=45  9*6=54  9*7=63  9*8=72  9*9=81  \n"
          ]
        }
      ],
      "source": [
        "#九九乘法\n",
        "for i in range(2,10):\n",
        "    for j in range(1,10):\n",
        "        product=i*j\n",
        "        print(\"%d*%d=%2d \"%(i,j,product),end=\" \")\n",
        "    print( ) "
      ]
    },
    {
      "cell_type": "markdown",
      "source": [
        "最小公倍數"
      ],
      "metadata": {
        "id": "ZgvFUeypD5K8"
      }
    },
    {
      "cell_type": "code",
      "source": [
        "a=int(input(\"請輸入a的值\"))\n",
        "b=int(input(\"請輸入b的值\"))\n",
        "\n",
        "maxno=a*b\n",
        "for i in range(1,maxno+1):\n",
        "    if(i%a==0 and i%b==0):\n",
        "        break\n",
        "print(\"%d和%d的最小公倍數=%d\"%(a,b,i))    "
      ],
      "metadata": {
        "colab": {
          "base_uri": "https://localhost:8080/"
        },
        "id": "-znz1VlWD9Lz",
        "outputId": "9d341433-06b0-4dc1-c43c-799c089ba455"
      },
      "execution_count": null,
      "outputs": [
        {
          "output_type": "stream",
          "name": "stdout",
          "text": [
            "請輸入a的值2\n",
            "請輸入b的值3\n",
            "2和3的最小公倍數=6\n"
          ]
        }
      ]
    },
    {
      "cell_type": "markdown",
      "source": [
        "排除5的倍數"
      ],
      "metadata": {
        "id": "6Ujo9-JDE7nM"
      }
    },
    {
      "cell_type": "code",
      "source": [
        "n=int(input(\"請輸入正整數:\"))\n",
        "for i in range(1,n+1):\n",
        "    if i % 5==0:\n",
        "        continue\n",
        "    print(i,end=\" \")    "
      ],
      "metadata": {
        "colab": {
          "base_uri": "https://localhost:8080/"
        },
        "id": "rmgWLNXaGAly",
        "outputId": "a22a654a-f7a7-43e4-a2c5-0f8643fbaa1b"
      },
      "execution_count": null,
      "outputs": [
        {
          "output_type": "stream",
          "name": "stdout",
          "text": [
            "請輸入正整數:21\n",
            "1 2 3 4 6 7 8 9 11 12 13 14 16 17 18 19 21 "
          ]
        }
      ]
    },
    {
      "cell_type": "markdown",
      "source": [
        "while 迴圈"
      ],
      "metadata": {
        "id": "2fkTlTRpHWwD"
      }
    },
    {
      "cell_type": "code",
      "source": [
        "total=n=0\n",
        "while(n<=10):\n",
        "    total+=n\n",
        "    n +=1\n",
        "print(total)    "
      ],
      "metadata": {
        "colab": {
          "base_uri": "https://localhost:8080/"
        },
        "id": "RJZfthTLIL_T",
        "outputId": "6bc88262-3a4a-4700-8f35-071bcfd72486"
      },
      "execution_count": null,
      "outputs": [
        {
          "output_type": "stream",
          "name": "stdout",
          "text": [
            "55\n"
          ]
        }
      ]
    },
    {
      "cell_type": "code",
      "source": [
        "total=n=0\n",
        "while n<=10:\n",
        "    total+=n\n",
        "    n +=1\n",
        "print(total) "
      ],
      "metadata": {
        "colab": {
          "base_uri": "https://localhost:8080/"
        },
        "id": "R8w7-c-jIuAM",
        "outputId": "a99228d1-fb40-4092-c9a5-1aec9e7f59f4"
      },
      "execution_count": null,
      "outputs": [
        {
          "output_type": "stream",
          "name": "stdout",
          "text": [
            "55\n"
          ]
        }
      ]
    },
    {
      "cell_type": "markdown",
      "source": [
        "while"
      ],
      "metadata": {
        "id": "KJFSKpDGJVlK"
      }
    },
    {
      "cell_type": "code",
      "source": [
        "total=i=1\n",
        "n=int(input(\"請輸入正整數n的值: \"))\n",
        "while i <= n:\n",
        "    total*=i\n",
        "    i+=1\n",
        "print(\"%d!=%d\"%(n,total))    "
      ],
      "metadata": {
        "colab": {
          "base_uri": "https://localhost:8080/"
        },
        "id": "9kySONxEJkLj",
        "outputId": "459837c7-281d-4674-8ede-c39f5dd32cee"
      },
      "execution_count": null,
      "outputs": [
        {
          "output_type": "stream",
          "name": "stdout",
          "text": [
            "請輸入正整數n的值: 5\n",
            "5!=120\n"
          ]
        }
      ]
    },
    {
      "cell_type": "markdown",
      "source": [
        "基數和偶數和"
      ],
      "metadata": {
        "id": "t4Z67voMNcRJ"
      }
    },
    {
      "cell_type": "code",
      "source": [
        "i=0\n",
        "t1=0\n",
        "while i <= 49:\n",
        "    i+=1\n",
        "    if i % 2==0:\n",
        "        continue\n",
        "    else:\n",
        "        t1+=i\n",
        "print(\"0到50的奇數和結果是\",t1) \n",
        "a=0\n",
        "t2=0\n",
        "while a <= 49:\n",
        "    a+=1\n",
        "    if a % 2==1:\n",
        "        continue\n",
        "    else:\n",
        "        t2+=a\n",
        "\n",
        "print(\"0到50的偶數和結果是\",t2)               "
      ],
      "metadata": {
        "colab": {
          "base_uri": "https://localhost:8080/"
        },
        "id": "a1vf1enQNkmP",
        "outputId": "bae77c13-7c41-493d-b72f-b9afd9143ea5"
      },
      "execution_count": null,
      "outputs": [
        {
          "output_type": "stream",
          "name": "stdout",
          "text": [
            "0到50的奇數和結果是 625\n",
            "0到50的偶數和結果是 650\n"
          ]
        }
      ]
    },
    {
      "cell_type": "markdown",
      "source": [
        "倒三角\n"
      ],
      "metadata": {
        "id": "BivirpVLy1tb"
      }
    },
    {
      "cell_type": "code",
      "source": [
        "\n",
        "n=int(input(\"請輸入一個正整數: \"))\n",
        "while n>=1:\n",
        "    print(n*\"*\")\n",
        "    n-=1"
      ],
      "metadata": {
        "id": "aZ15sMk5i5DY",
        "colab": {
          "base_uri": "https://localhost:8080/"
        },
        "outputId": "98f20d31-1ca3-4d13-8855-e308188055ca"
      },
      "execution_count": 32,
      "outputs": [
        {
          "output_type": "stream",
          "name": "stdout",
          "text": [
            "請輸入一個正整數: 5\n",
            "*****\n",
            "****\n",
            "***\n",
            "**\n",
            "*\n"
          ]
        }
      ]
    },
    {
      "cell_type": "markdown",
      "source": [
        "3,7的倍數"
      ],
      "metadata": {
        "id": "eUc4FyTiq-2N"
      }
    },
    {
      "cell_type": "code",
      "source": [
        "sum=0\n",
        "for i in range(1,101):\n",
        "    if i%3 ==0 or i %7 ==0:\n",
        "        sum+=i\n",
        "print(\"1~100中，3和7的倍數總合為: \",sum)        "
      ],
      "metadata": {
        "colab": {
          "base_uri": "https://localhost:8080/"
        },
        "id": "7M0EZCQOrCe5",
        "outputId": "d163b565-d455-4b92-fc94-265451142865"
      },
      "execution_count": 18,
      "outputs": [
        {
          "output_type": "stream",
          "name": "stdout",
          "text": [
            "1~100中，3和7的倍數總合為:  2208\n"
          ]
        }
      ]
    },
    {
      "cell_type": "markdown",
      "source": [
        "質數判斷"
      ],
      "metadata": {
        "id": "wJnQj3ttr9lO"
      }
    },
    {
      "cell_type": "code",
      "source": [
        "n=int(input(\"請輸入一個正因數: \"))\n",
        "for i in range(1,n+1):\n",
        "\n",
        "    while i<=n:\n",
        "        if n%i==0:\n",
        "            print(i,end=\" \")\n",
        "            \n",
        "        break\n",
        "print()  \n",
        "if n%i==0:\n",
        "    print(n,\"是質數\")\n",
        "else:    \n",
        "    print(n,\"不是質數\")    \n",
        "\n",
        "   "
      ],
      "metadata": {
        "colab": {
          "base_uri": "https://localhost:8080/"
        },
        "id": "NwHcnsMbsDKm",
        "outputId": "ebe9c5c5-4129-4c9a-8e88-08625303304c"
      },
      "execution_count": 69,
      "outputs": [
        {
          "output_type": "stream",
          "name": "stdout",
          "text": [
            "請輸入一個正因數: 12\n",
            "1 2 3 4 6 12 \n",
            "12 是質數\n"
          ]
        }
      ]
    }
  ]
}