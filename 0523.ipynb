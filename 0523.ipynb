{
  "nbformat": 4,
  "nbformat_minor": 0,
  "metadata": {
    "colab": {
      "name": "0523.ipynb",
      "provenance": [],
      "authorship_tag": "ABX9TyNF9YC2nAhYNyNyky9ZSwQK",
      "include_colab_link": true
    },
    "kernelspec": {
      "name": "python3",
      "display_name": "Python 3"
    },
    "language_info": {
      "name": "python"
    }
  },
  "cells": [
    {
      "cell_type": "markdown",
      "metadata": {
        "id": "view-in-github",
        "colab_type": "text"
      },
      "source": [
        "<a href=\"https://colab.research.google.com/github/morningcoffeehoola/introduction-to-coumputer/blob/main/0523.ipynb\" target=\"_parent\"><img src=\"https://colab.research.google.com/assets/colab-badge.svg\" alt=\"Open In Colab\"/></a>"
      ]
    },
    {
      "cell_type": "code",
      "execution_count": 1,
      "metadata": {
        "colab": {
          "base_uri": "https://localhost:8080/"
        },
        "id": "U6IY5bAu_D2s",
        "outputId": "422743d7-f4a8-4087-e62c-143d83e0c051"
      },
      "outputs": [
        {
          "output_type": "stream",
          "name": "stdout",
          "text": [
            "123\n"
          ]
        }
      ],
      "source": [
        "print(\"123\")"
      ]
    },
    {
      "cell_type": "code",
      "source": [
        "sum=0\n",
        "p=int(input(print(\"請輸入一個正整數\")))\n",
        "for p in range(1,p+1):\n",
        "    \n",
        "    sum=sum+p\n",
        "print((\"1到%d的整數合為%d\" )%(p,sum))    "
      ],
      "metadata": {
        "colab": {
          "base_uri": "https://localhost:8080/"
        },
        "id": "PKzAM9k3A9tT",
        "outputId": "e734f613-f759-4f6c-902b-687c69e17add"
      },
      "execution_count": 3,
      "outputs": [
        {
          "output_type": "stream",
          "name": "stdout",
          "text": [
            "請輸入一個正整數\n",
            "5\n",
            "1到5的整數合為15\n"
          ]
        }
      ]
    },
    {
      "cell_type": "code",
      "source": [
        "sum=0\n",
        "q=int(input(print(\"請輸入一個正整數\")))\n",
        "for q in range(1,q+1):\n",
        "    sum=sum+q\n",
        "    print((\"1到%d的整數合為%d\")%(q,sum))\n",
        "    \n",
        "#print((\"1到%d的整數合為%d\" )%(p,sum))    "
      ],
      "metadata": {
        "colab": {
          "base_uri": "https://localhost:8080/"
        },
        "id": "E0d6dUO4A_5o",
        "outputId": "cbc18856-81dc-4dd4-b8b5-a16b73e1a13d"
      },
      "execution_count": 4,
      "outputs": [
        {
          "output_type": "stream",
          "name": "stdout",
          "text": [
            "請輸入一個正整數\n",
            "6\n",
            "1到1的整數合為1\n",
            "1到2的整數合為3\n",
            "1到3的整數合為6\n",
            "1到4的整數合為10\n",
            "1到5的整數合為15\n",
            "1到6的整數合為21\n"
          ]
        }
      ]
    },
    {
      "cell_type": "code",
      "source": [
        "for j in range(1,5):\n",
        "    print(j)\n",
        "    for i in range(1,3):\n",
        "        k=i*j\n",
        "        print(j,\"*\",i,\"=\",k)\n"
      ],
      "metadata": {
        "colab": {
          "base_uri": "https://localhost:8080/"
        },
        "id": "EhJ-QoTSCU_o",
        "outputId": "e2f14ca3-9f38-4ed1-ba5d-cb7a9e5c11f4"
      },
      "execution_count": 5,
      "outputs": [
        {
          "output_type": "stream",
          "name": "stdout",
          "text": [
            "1\n",
            "1 * 1 = 1\n",
            "1 * 2 = 2\n",
            "2\n",
            "2 * 1 = 2\n",
            "2 * 2 = 4\n",
            "3\n",
            "3 * 1 = 3\n",
            "3 * 2 = 6\n",
            "4\n",
            "4 * 1 = 4\n",
            "4 * 2 = 8\n"
          ]
        }
      ]
    },
    {
      "cell_type": "code",
      "source": [
        "for j in range(1,6):\n",
        "    print(j)\n",
        "    for i in range(1,3):\n",
        "        k=i*j\n",
        "        print(j,\"*\",i,\"=\",k)\n"
      ],
      "metadata": {
        "colab": {
          "base_uri": "https://localhost:8080/"
        },
        "id": "w-xvmvdED0GQ",
        "outputId": "1cffd814-696f-4ba6-9888-885f62ddfa34"
      },
      "execution_count": 6,
      "outputs": [
        {
          "output_type": "stream",
          "name": "stdout",
          "text": [
            "1\n",
            "1 * 1 = 1\n",
            "1 * 2 = 2\n",
            "2\n",
            "2 * 1 = 2\n",
            "2 * 2 = 4\n",
            "3\n",
            "3 * 1 = 3\n",
            "3 * 2 = 6\n",
            "4\n",
            "4 * 1 = 4\n",
            "4 * 2 = 8\n",
            "5\n",
            "5 * 1 = 5\n",
            "5 * 2 = 10\n"
          ]
        }
      ]
    },
    {
      "cell_type": "code",
      "source": [
        "for j in range(1,10):\n",
        "    #print(end=\"\")\n",
        "    for i in range(1,10):\n",
        "        k=i*j\n",
        "        print(j,\"*\",i,\"=\",k,end=\"\\t\")\n",
        "    print()"
      ],
      "metadata": {
        "colab": {
          "base_uri": "https://localhost:8080/"
        },
        "id": "t2eeA6a9ES8T",
        "outputId": "61a11cc3-19ee-4b03-f930-9b69960c470e"
      },
      "execution_count": 17,
      "outputs": [
        {
          "output_type": "stream",
          "name": "stdout",
          "text": [
            "1 * 1 = 1\t1 * 2 = 2\t1 * 3 = 3\t1 * 4 = 4\t1 * 5 = 5\t1 * 6 = 6\t1 * 7 = 7\t1 * 8 = 8\t1 * 9 = 9\t\n",
            "2 * 1 = 2\t2 * 2 = 4\t2 * 3 = 6\t2 * 4 = 8\t2 * 5 = 10\t2 * 6 = 12\t2 * 7 = 14\t2 * 8 = 16\t2 * 9 = 18\t\n",
            "3 * 1 = 3\t3 * 2 = 6\t3 * 3 = 9\t3 * 4 = 12\t3 * 5 = 15\t3 * 6 = 18\t3 * 7 = 21\t3 * 8 = 24\t3 * 9 = 27\t\n",
            "4 * 1 = 4\t4 * 2 = 8\t4 * 3 = 12\t4 * 4 = 16\t4 * 5 = 20\t4 * 6 = 24\t4 * 7 = 28\t4 * 8 = 32\t4 * 9 = 36\t\n",
            "5 * 1 = 5\t5 * 2 = 10\t5 * 3 = 15\t5 * 4 = 20\t5 * 5 = 25\t5 * 6 = 30\t5 * 7 = 35\t5 * 8 = 40\t5 * 9 = 45\t\n",
            "6 * 1 = 6\t6 * 2 = 12\t6 * 3 = 18\t6 * 4 = 24\t6 * 5 = 30\t6 * 6 = 36\t6 * 7 = 42\t6 * 8 = 48\t6 * 9 = 54\t\n",
            "7 * 1 = 7\t7 * 2 = 14\t7 * 3 = 21\t7 * 4 = 28\t7 * 5 = 35\t7 * 6 = 42\t7 * 7 = 49\t7 * 8 = 56\t7 * 9 = 63\t\n",
            "8 * 1 = 8\t8 * 2 = 16\t8 * 3 = 24\t8 * 4 = 32\t8 * 5 = 40\t8 * 6 = 48\t8 * 7 = 56\t8 * 8 = 64\t8 * 9 = 72\t\n",
            "9 * 1 = 9\t9 * 2 = 18\t9 * 3 = 27\t9 * 4 = 36\t9 * 5 = 45\t9 * 6 = 54\t9 * 7 = 63\t9 * 8 = 72\t9 * 9 = 81\t\n"
          ]
        }
      ]
    },
    {
      "cell_type": "code",
      "source": [
        "for i in range(1,5):\n",
        "    if(i==4):\n",
        "        break\n",
        "    print(i,end=\" \")    "
      ],
      "metadata": {
        "colab": {
          "base_uri": "https://localhost:8080/"
        },
        "id": "ZUxJrTTiE0nf",
        "outputId": "b12b29d1-990a-4619-adbc-a96217542aa7"
      },
      "execution_count": 11,
      "outputs": [
        {
          "output_type": "stream",
          "name": "stdout",
          "text": [
            "1 2 3 "
          ]
        }
      ]
    },
    {
      "cell_type": "code",
      "source": [
        "for i in range(1,5):\n",
        "    if(i==4):\n",
        "        continue\n",
        "    print(i,end=\" \")"
      ],
      "metadata": {
        "colab": {
          "base_uri": "https://localhost:8080/"
        },
        "id": "OxJlzUreFL9H",
        "outputId": "0788e528-b4cd-418a-c976-19f3d7acb873"
      },
      "execution_count": 14,
      "outputs": [
        {
          "output_type": "stream",
          "name": "stdout",
          "text": [
            "1 2 3 "
          ]
        }
      ]
    },
    {
      "cell_type": "code",
      "source": [
        "count=0\n",
        "for string in \"測試看看!\":\n",
        "    count+=1\n",
        "    if string == \"看\":\n",
        "        break\n",
        "    print(string)\n",
        "print(\"迴圈結束!\")\n",
        "print(\"迴圈執行了%d次\" % (count))"
      ],
      "metadata": {
        "colab": {
          "base_uri": "https://localhost:8080/"
        },
        "id": "29OexRQJFMBd",
        "outputId": "78b3e894-9c4e-4ba0-ee2d-79a1936cc36c"
      },
      "execution_count": 19,
      "outputs": [
        {
          "output_type": "stream",
          "name": "stdout",
          "text": [
            "測\n",
            "試\n",
            "迴圈結束!\n",
            "迴圈執行了3次\n"
          ]
        }
      ]
    },
    {
      "cell_type": "code",
      "source": [
        "count=0\n",
        "for string in \"hellow\":\n",
        "    count+=1\n",
        "    if string == \"w\":\n",
        "        break\n",
        "    print(string,end=\" \")\n",
        "print(\"迴圈結束!\")\n",
        "print(\"迴圈執行了%d次\" % (count))"
      ],
      "metadata": {
        "colab": {
          "base_uri": "https://localhost:8080/"
        },
        "id": "cC-tXx_gHd1H",
        "outputId": "3b72b96b-9067-42e8-9138-0570192c65a6"
      },
      "execution_count": 22,
      "outputs": [
        {
          "output_type": "stream",
          "name": "stdout",
          "text": [
            "h e l l o 迴圈結束!\n",
            "迴圈執行了6次\n"
          ]
        }
      ]
    },
    {
      "cell_type": "code",
      "source": [
        "a=int(input(\"type a :\"))\n",
        "b=int(input(\"type b :\"))\n",
        "for i in range(2,a*b):\n",
        "    if i%a==0 and i%b==0:\n",
        "        break \n",
        "print(i)\n"
      ],
      "metadata": {
        "colab": {
          "base_uri": "https://localhost:8080/"
        },
        "id": "BJCo1r9RHr7F",
        "outputId": "09bf32bb-8416-4922-e18d-b83335cc8b50"
      },
      "execution_count": 63,
      "outputs": [
        {
          "output_type": "stream",
          "name": "stdout",
          "text": [
            "type a :24\n",
            "type b :54\n",
            "216\n"
          ]
        }
      ]
    },
    {
      "cell_type": "code",
      "source": [
        "z=int(input(\"type z :\"))\n",
        "for i in range(1,z+1):\n",
        "    if i%5==0:\n",
        "        continue \n",
        "    else:\n",
        "        print(i,end=\" \")        "
      ],
      "metadata": {
        "colab": {
          "base_uri": "https://localhost:8080/"
        },
        "id": "tXku62fVJ77v",
        "outputId": "1c06d71c-c667-4d0b-d9ee-a842276bd826"
      },
      "execution_count": 42,
      "outputs": [
        {
          "output_type": "stream",
          "name": "stdout",
          "text": [
            "type z :10\n",
            "1 2 3 4 6 7 8 9 "
          ]
        }
      ]
    }
  ]
}